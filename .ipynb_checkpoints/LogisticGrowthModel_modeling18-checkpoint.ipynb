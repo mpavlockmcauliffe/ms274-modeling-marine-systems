{
 "cells": [
  {
   "cell_type": "code",
   "execution_count": 0,
   "metadata": {
    "colab": {},
    "colab_type": "code",
    "collapsed": true,
    "id": "KRvPRZCbAg43"
   },
   "outputs": [],
   "source": [
    "import numpy as np\n",
    "import matplotlib.pyplot as plt"
   ]
  },
  {
   "cell_type": "markdown",
   "metadata": {
    "colab_type": "text",
    "id": "cGkbSUHuCcT9"
   },
   "source": [
    "Define Parameters:"
   ]
  },
  {
   "cell_type": "code",
   "execution_count": 0,
   "metadata": {
    "colab": {},
    "colab_type": "code",
    "collapsed": true,
    "id": "DKmJpqvIAkLy"
   },
   "outputs": [],
   "source": [
    "K = 200     #carrying capacity [individuals]\n",
    "r = 1         #per capita growth rate [1/yr]\n",
    "N0 = 23      #starting population [individuals]\n",
    "\n",
    "Ti = 0        #initial time [yr]\n",
    "Tf = 10       #final time [yr]\n",
    "delta_T = .1  #timestep [yr]\n",
    "\n",
    "#add L as a fishing pressure parameter\n",
    "L = 20"
   ]
  },
  {
   "cell_type": "markdown",
   "metadata": {
    "colab_type": "text",
    "id": "K-AYb02iEFtv"
   },
   "source": [
    "Create an array containing each time the model will be evaluated, and an array for the population at each time (since we're breaking a continuous logistic growth model to determine population at discrete times):"
   ]
  },
  {
   "cell_type": "code",
   "execution_count": 0,
   "metadata": {
    "colab": {},
    "colab_type": "code",
    "collapsed": true,
    "id": "VW3JVfsVEFNS"
   },
   "outputs": [],
   "source": [
    "t = np.arange(Ti,Tf,delta_T) #initial time, final time, time step\n",
    "nsteps = len(t) #number of timesteps in model - breaking up time into many steps - 100 in fact"
   ]
  },
  {
   "cell_type": "markdown",
   "metadata": {
    "colab_type": "text",
    "id": "mE6ftWzTFDdJ"
   },
   "source": [
    "Set up a zeros population array starting at N0 = 90, to be filled with modeled populations later:"
   ]
  },
  {
   "cell_type": "code",
   "execution_count": 0,
   "metadata": {
    "colab": {},
    "colab_type": "code",
    "collapsed": true,
    "id": "uBaihd_OFCuH"
   },
   "outputs": [],
   "source": [
    "N = np.zeros(nsteps)\n",
    "N[0] = N0"
   ]
  },
  {
   "cell_type": "markdown",
   "metadata": {
    "colab_type": "text",
    "id": "7eTX5xwKF9Cc"
   },
   "source": [
    "Loop through each time step using a for loop to calulate populations with time:"
   ]
  },
  {
   "cell_type": "code",
   "execution_count": 0,
   "metadata": {
    "colab": {},
    "colab_type": "code",
    "collapsed": true,
    "id": "1GRooZTTD6D4"
   },
   "outputs": [],
   "source": [
    "for i in range(0,nsteps-1):\n",
    "  dNdt = r*N[i]*((K-N[i])/K) - L\n",
    "  N[i+1] = N[i] + dNdt*delta_T"
   ]
  },
  {
   "cell_type": "code",
   "execution_count": 165,
   "metadata": {
    "colab": {
     "base_uri": "https://localhost:8080/",
     "height": 363
    },
    "colab_type": "code",
    "executionInfo": {
     "elapsed": 284,
     "status": "ok",
     "timestamp": 1536277338374,
     "user": {
      "displayName": "Miya Pavlock-McAuliffe",
      "photoUrl": "https://lh3.googleusercontent.com/a/default-user=s128",
      "userId": "114748606600128707721"
     },
     "user_tz": 420
    },
    "id": "yVCk13enD2t-",
    "outputId": "7ce65977-cf91-4344-d001-458e4ea4993f"
   },
   "outputs": [
    {
     "name": "stdout",
     "output_type": "stream",
     "text": [
      "[ 23.          23.0355      23.07373287  23.11490758  23.15924886\n",
      "  23.20699835  23.2584158   23.31378042  23.37339229  23.43757378\n",
      "  23.50667123  23.58105655  23.66112909  23.74731749  23.84008169\n",
      "  23.93991512  24.04734686  24.1629441   24.28731458  24.42110921\n",
      "  24.56502484  24.7198071   24.88625338  25.06521592  25.25760498\n",
      "  25.46439218  25.68661376  25.92537407  26.18184897  26.45728926\n",
      "  26.75302411  27.07046437  27.41110579  27.77653201  28.16841734\n",
      "  28.58852921  29.03873013  29.52097922  30.03733303  30.58994565\n",
      "  31.18106782  31.81304511  32.4883147   33.20940088  33.97890881\n",
      "  34.79951657  35.67396505  36.60504566  37.59558555  38.64843008\n",
      "  39.76642251  40.95238058  42.2090699   43.5391741   44.94526167\n",
      "  46.42974956  47.9948637   49.6425966   51.37466256  53.19245084\n",
      "  55.09697751  57.08883679  59.16815283  61.33453296  63.58702379\n",
      "  65.92407137  68.34348691  70.8424195   73.41733725  76.06401827\n",
      "  78.77755266  81.55235653  84.38219875  87.26024089  90.17909016\n",
      "  93.13086503  96.10727252  99.09969586 102.09929058 105.09708707\n",
      " 108.08409692 111.05142061 113.99035366 116.89248867 119.74981058\n",
      " 122.55478307 125.30042395 127.98036822 130.58891772 133.12107678\n",
      " 135.57257391 137.93986991 140.22015304 142.41132269 144.51196254\n",
      " 146.52130514 148.43918922 150.26601169 152.00267573 153.65053659]\n"
     ]
    }
   ],
   "source": [
    "print(N)"
   ]
  },
  {
   "cell_type": "code",
   "execution_count": 166,
   "metadata": {
    "colab": {
     "base_uri": "https://localhost:8080/",
     "height": 376
    },
    "colab_type": "code",
    "executionInfo": {
     "elapsed": 630,
     "status": "ok",
     "timestamp": 1536277339739,
     "user": {
      "displayName": "Miya Pavlock-McAuliffe",
      "photoUrl": "https://lh3.googleusercontent.com/a/default-user=s128",
      "userId": "114748606600128707721"
     },
     "user_tz": 420
    },
    "id": "u66mTemnG__r",
    "outputId": "88e268e7-4377-4aad-ee87-a0ec0feb956e"
   },
   "outputs": [
    {
     "data": {
      "image/png": "[encoded data removed]",
      "text/plain": [
       "<matplotlib.figure.Figure at 0x7f55731e3240>"
      ]
     },
     "metadata": {
      "tags": []
     },
     "output_type": "display_data"
    }
   ],
   "source": [
    "plt.figure()\n",
    "plt.plot(t,N,'-o')\n",
    "plt.title('Logistic Growth Model')\n",
    "plt.xlabel('time [years]')\n",
    "plt.ylabel('population [individuals]');"
   ]
  },
  {
   "cell_type": "code",
   "execution_count": 0,
   "metadata": {
    "colab": {},
    "colab_type": "code",
    "collapsed": true,
    "id": "EMiCE3sQJ6yP"
   },
   "outputs": [],
   "source": [
    " "
   ]
  }
 ],
 "metadata": {
  "colab": {
   "collapsed_sections": [],
   "name": "Copy of LogisticGrowthModel_modeling18.ipynb",
   "provenance": [
    {
     "file_id": "163jSGmMoT9qKjGPytA94v3T34qXVKAdu",
     "timestamp": 1536275636909
    }
   ],
   "version": "0.3.2"
  },
  "kernelspec": {
   "display_name": "Python 3",
   "language": "python",
   "name": "python3"
  },
  "language_info": {
   "codemirror_mode": {
    "name": "ipython",
    "version": 3
   },
   "file_extension": ".py",
   "mimetype": "text/x-python",
   "name": "python",
   "nbconvert_exporter": "python",
   "pygments_lexer": "ipython3",
   "version": "3.6.3"
  }
 },
 "nbformat": 4,
 "nbformat_minor": 1
}
